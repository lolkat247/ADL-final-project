{
 "cells": [
  {
   "cell_type": "markdown",
   "metadata": {},
   "source": [
    "# Training Notebook"
   ]
  },
  {
   "cell_type": "markdown",
   "metadata": {},
   "source": [
    "## Imports"
   ]
  },
  {
   "cell_type": "code",
   "execution_count": null,
   "metadata": {},
   "outputs": [],
   "source": [
    "!pip3 install -r requirements.txt"
   ]
  },
  {
   "cell_type": "code",
   "execution_count": null,
   "metadata": {},
   "outputs": [],
   "source": [
    "import torch\n",
    "import torch.nn as nn\n",
    "import torch.optim as optim\n",
    "from common.model import VoiceAutoencoder\n",
    "from common.mel_spectrogram import MelSpectrogram\n",
    "from common.speaker_embed import DummySpeakerEmbedder\n",
    "import torchaudio\n",
    "import os\n",
    "from torch.utils.data import DataLoader, Dataset\n",
    "import random\n",
    "from common.speaker_embed import ECAPASpeakerEmbedder"
   ]
  },
  {
   "cell_type": "markdown",
   "metadata": {},
   "source": [
    "## Dataset Structure\n",
    "This should make training faster."
   ]
  },
  {
   "cell_type": "code",
   "execution_count": null,
   "metadata": {},
   "outputs": [],
   "source": [
    "class VoiceDataset(Dataset):\n",
    "    def __init__(self, file_paths, speaker_ids):\n",
    "        self.paths = file_paths\n",
    "        self.ids = speaker_ids\n",
    "        self.mel_transform = MelSpectrogram()\n",
    "\n",
    "    def __getitem__(self, index):\n",
    "        audio, sr = torchaudio.load(self.paths[index])\n",
    "        audio = torchaudio.functional.resample(audio, sr, 22050)\n",
    "        mel = self.mel_transform(audio).squeeze().transpose(0, 1)\n",
    "        return mel, self.ids[index]\n",
    "\n",
    "    def __len__(self):\n",
    "        return len(self.paths)"
   ]
  },
  {
   "cell_type": "markdown",
   "metadata": {},
   "source": [
    "## Initialize"
   ]
  },
  {
   "cell_type": "code",
   "execution_count": null,
   "metadata": {},
   "outputs": [],
   "source": [
    "model = VoiceAutoencoder().cuda()\n",
    "embedder = ECAPASpeakerEmbedder(device='cuda')  # or 'cpu'\n",
    "optimizer = optim.Adam(model.parameters(), lr=1e-3)\n",
    "criterion = nn.MSELoss()\n",
    "\n",
    "# Load data\n",
    "# TODO Add dataset and dataset download\n",
    "paths = [\"data/speaker0_001.wav\", \"data/speaker1_002.wav\"]  # example\n",
    "ids = [0, 1]\n",
    "dataset = VoiceDataset(paths, ids)\n",
    "loader = DataLoader(dataset, batch_size=2, shuffle=True)"
   ]
  },
  {
   "cell_type": "markdown",
   "metadata": {},
   "source": [
    "## Training Loop"
   ]
  },
  {
   "cell_type": "code",
   "execution_count": null,
   "metadata": {},
   "outputs": [],
   "source": [
    "for epoch in range(20):\n",
    "    model.train()\n",
    "    for mel, ref_audio_path in loader:\n",
    "        mel = mel.cuda()\n",
    "\n",
    "        # Extract speaker embedding from reference audio\n",
    "        speaker_embedding = embedder.extract_embedding(ref_audio_path)  # shape [dim]\n",
    "        speaker_embedding = speaker_embedding.unsqueeze(0).expand(mel.size(0), -1)  # match batch size\n",
    "        speaker_embedding = speaker_embedding.cuda()\n",
    "\n",
    "        out = model(mel, speaker_embedding)\n",
    "        loss = criterion(out, mel)\n",
    "\n",
    "        optimizer.zero_grad()\n",
    "        loss.backward()\n",
    "        optimizer.step()\n",
    "\n",
    "    print(f\"Epoch {epoch}: Loss = {loss.item()}\")"
   ]
  }
 ],
 "metadata": {
  "language_info": {
   "name": "python"
  }
 },
 "nbformat": 4,
 "nbformat_minor": 2
}
